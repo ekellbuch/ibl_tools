{
 "cells": [
  {
   "cell_type": "code",
   "execution_count": 1,
   "metadata": {},
   "outputs": [],
   "source": [
    "# Evaluate the outputs of the movies\n",
    "%load_ext autoreload\n",
    "%autoreload 2\n",
    "#%matplotlib widget\n",
    "\n",
    "import numpy as np\n",
    "import matplotlib.pyplot as plt\n",
    "\n",
    "import ibl_tools\n",
    "from ibl_tools.core_files import ExperimentNames, ExperimentFiles\n",
    "from ibl_tools.plot import visualize_frames\n",
    "\n",
    "# Read all experiments\n",
    "experiment = ExperimentNames()\n",
    "# Select subset of experiments for demo\n",
    "experiment_names = ['b8875d4d-e28f-4976-859e-bf8a5dd20024_paws_small',\n",
    " 'cf7972dd-e408-4759-a3e2-e404a71f13ee_paws_small',\n",
    " '735c72f4-1b43-4eb6-8754-f2e2705cdcca_paws_small',\n",
    " 'b1c80c88-4e4b-4651-966c-10d3eaf9b99e_paws_small',\n",
    " 'fafe6343-d1d5-4979-814b-6024e97ffb89_paws_small']"
   ]
  },
  {
   "cell_type": "code",
   "execution_count": 2,
   "metadata": {},
   "outputs": [
    {
     "name": "stdout",
     "output_type": "stream",
     "text": [
      "/run/user/1000/gvfs/smb-share:server=locker-smb.engram.rc.zi.columbia.edu,share=paninski-locker,user=ADCU%5Cekb2154/data/ibl/dlc-networks\n"
     ]
    }
   ],
   "source": [
    "# Extract data of a subject\n",
    "ii = 0\n",
    "subject_id = experiment_names[ii]\n",
    "# Read all filenames for subject\n",
    "exp_files = ExperimentFiles(subject_id, ii)"
   ]
  },
  {
   "cell_type": "code",
   "execution_count": 3,
   "metadata": {},
   "outputs": [],
   "source": [
    "# Load training, validation and testing features\n",
    "(train_, val_, test_) = exp_files.load_trace_features()\n",
    "(train_data, train_slice) = train_\n",
    "(val_data, val_slice) = val_\n",
    "(test_data, test_slice) = test_"
   ]
  },
  {
   "cell_type": "code",
   "execution_count": 4,
   "metadata": {},
   "outputs": [],
   "source": [
    "\n",
    "from behdata.pyhsmm.models import fit_ar_pyhsmm_models, relabel_model_z\n",
    "from behdata.utils_model import create_schedule, fit_gaussian\n",
    "from behdata.utils import read_pickle\n",
    "from pyhsmm.util.general import rle\n",
    "\n",
    "import os\n",
    "import time\n",
    "import pickle\n",
    "import pandas as pd\n",
    "import seaborn as sns"
   ]
  },
  {
   "cell_type": "code",
   "execution_count": 5,
   "metadata": {},
   "outputs": [
    {
     "name": "stdout",
     "output_type": "stream",
     "text": [
      "Created schedule containing 5 configurations.\n"
     ]
    }
   ],
   "source": [
    "# Create jobs for file\n",
    "schedule_id = 0\n",
    "\n",
    "if schedule_id == 0:\n",
    "    schedule = create_schedule(\n",
    "        {\n",
    "            \"model\": [\"arhmm\"],\n",
    "            \"emissions\": [\"ar\"],\n",
    "            \"transitions\": [\"sticky\"],\n",
    "            \"lags\": 1,\n",
    "            \"affine\": True,\n",
    "            \"alpha\": 10,\n",
    "            \"kappa\": 10**np.arange(2, 11)[::2],\n",
    "            \"K\": 6, #range(2, 12),  # number of discrete states\n",
    "            \"N_iters\": 2000,\n",
    "            \"seed\": range(1),\n",
    "        }\n",
    "    )"
   ]
  },
  {
   "cell_type": "code",
   "execution_count": 6,
   "metadata": {},
   "outputs": [],
   "source": [
    "# Set directory where to read data from\n",
    "log_dir = \"/data/model_01_out/right_paw/subject_{:02}/\".format(ii)\n",
    "if not os.path.isdir(log_dir):\n",
    "    print('Directory doesn''t exist')\n",
    "\n",
    "# Set directory where to store plots\n",
    "log_dir_plot = os.path.join(log_dir +'figures/')\n",
    "if not os.path.isdir(log_dir_plot):\n",
    "    os.makedirs(log_dir_plot)"
   ]
  },
  {
   "cell_type": "code",
   "execution_count": 7,
   "metadata": {},
   "outputs": [
    {
     "name": "stdout",
     "output_type": "stream",
     "text": [
      "Number of Experiments to read 5\n",
      "\n",
      "--------------------------------------------\n",
      "\n",
      "\n",
      "Reading experiment 0 out of 5\n",
      "\n",
      "Finished reading in 0.003927469253540039\n",
      "\n",
      "\n",
      "--------------------------------------------\n",
      "\n",
      "\n",
      "Reading experiment 1 out of 5\n",
      "\n",
      "Finished reading in 0.003614664077758789\n",
      "\n",
      "\n",
      "--------------------------------------------\n",
      "\n",
      "\n",
      "Reading experiment 2 out of 5\n",
      "\n",
      "Finished reading in 0.003418445587158203\n",
      "\n",
      "\n",
      "--------------------------------------------\n",
      "\n",
      "\n",
      "Reading experiment 3 out of 5\n",
      "\n",
      "Finished reading in 0.0033121109008789062\n",
      "\n",
      "\n",
      "--------------------------------------------\n",
      "\n",
      "\n",
      "Reading experiment 4 out of 5\n",
      "\n",
      "Finished reading in 0.002985239028930664\n",
      "\n"
     ]
    }
   ],
   "source": [
    "print(\"Number of Experiments to read {}\".format(len(schedule)))\n",
    "\n",
    "# Initialize model list\n",
    "ar_models = []\n",
    "\n",
    "# Read each model\n",
    "for config_id, scheduled_config in enumerate(schedule):\n",
    "\n",
    "    print(\"\\n--------------------------------------------\\n\\n\")\n",
    "    print(\"Reading experiment {} out of {}\\n\".format(config_id, len(schedule)))\n",
    "\n",
    "    fname = \"--\".join([f\"{key}-{value}\" for key, value in scheduled_config.items()])\n",
    "\n",
    "    # Check if file exists then pass\n",
    "    file_out = os.path.join(log_dir, fname + \".pkl\")\n",
    "\n",
    "    if not os.path.isfile(file_out):\n",
    "        print(\"\\n Skipping file:\\n{}\\n already exists!\\n\".format(file_out))\n",
    "        continue\n",
    "\n",
    "    start = time.time()\n",
    "    model = scheduled_config[\"model\"]\n",
    "\n",
    "    model_fit = {k: v for k, v in scheduled_config.items()}\n",
    "\n",
    "    try:\n",
    "        model_fit.update(read_pickle(file_out))\n",
    "\n",
    "        ar_models.append(model_fit)\n",
    "        print('Finished reading in {}\\n'.format(time.time() - start))\n",
    "\n",
    "    except Exception as e:\n",
    "        print(\"\\n*******\\n\")\n",
    "        print(\"\\nCrashed for config: \\n%s\\n\" % str(scheduled_config))\n",
    "        print(e)\n",
    "        print(\"\\n*******\\n\")\n"
   ]
  },
  {
   "cell_type": "code",
   "execution_count": 8,
   "metadata": {},
   "outputs": [
    {
     "name": "stdout",
     "output_type": "stream",
     "text": [
      "5\n",
      "Index(['K', 'N_iters', 'affine', 'alpha', 'emissions', 'kappa', 'lags',\n",
      "       'lls_test', 'lls_train', 'lls_val', 'model', 'seed', 'transitions'],\n",
      "      dtype='object')\n"
     ]
    }
   ],
   "source": [
    "# Create dataframe\n",
    "print(len(ar_models))\n",
    "df = pd.DataFrame(ar_models)\n",
    "print(df.keys())\n",
    "\n",
    "model_seeds = np.unique(df['seed'].to_numpy())\n",
    "model_lags = np.unique(df['lags'].to_numpy())\n",
    "model_states = np.unique(df['K'].to_numpy())\n",
    "model_kappas = np.unique(df['kappa'].to_numpy())"
   ]
  },
  {
   "cell_type": "code",
   "execution_count": 9,
   "metadata": {},
   "outputs": [],
   "source": [
    "# Flag to store plots\n",
    "FIG_STORE = False\n",
    "# Fit a Multivariate Gaussian for reference\n",
    "reference_vals = fit_gaussian(val_data)"
   ]
  },
  {
   "cell_type": "code",
   "execution_count": 10,
   "metadata": {},
   "outputs": [],
   "source": [
    "# ------------------------------------------\n",
    "# PLL for multiple kappas for the same state\n",
    "# ------------------------------------------\n",
    "model_meanplls = np.zeros((len(model_seeds), len(model_kappas)))\n",
    "\n",
    "model_state = model_states[0]\n",
    "model_lag = model_lags[0]\n",
    "#%%\n",
    "last_n_steps = 500\n",
    "# This depends on the # PLLs available on this case just 1\n",
    "\n",
    "for kappa_id, kappa in enumerate(model_kappas):\n",
    "    # The seeds correspond to the error bars, if we have then\n",
    "    for seed in model_seeds:\n",
    "        # calculate mean PLL\n",
    "        # Looking only at the LL once model is trained\n",
    "        # as opposed to during timesteps in training\n",
    "        vals = df[((df['lags'] == model_lag) & (df['K'] == model_state) & (df['kappa'] == kappa))]['lls_val']\n",
    "\n",
    "        vals = np.asarray(vals.to_numpy()[0])\n",
    "        # compare only with reference calculated after training (single step)\n",
    "        if not np.any(vals):\n",
    "            continue\n",
    "        assert np.ndim(vals) == 1\n",
    "        \n",
    "        \n",
    "        # divide by length of test sequence\n",
    "        # vals gives us the LL for the model for all points per time step\n",
    "        # ref gives us the LL for all points if fit w multivariate Gaussian\n",
    "\n",
    "        pll_referenced = (vals[-last_n_steps:].mean() - reference_vals.sum())/len(reference_vals)\n",
    "        model_meanplls[seed, kappa_id] = pll_referenced"
   ]
  },
  {
   "cell_type": "code",
   "execution_count": 11,
   "metadata": {},
   "outputs": [
    {
     "data": {
      "image/png": "[encoded data removed]",
      "text/plain": [
       "<Figure size 360x288 with 1 Axes>"
      ]
     },
     "metadata": {
      "needs_background": "light"
     },
     "output_type": "display_data"
    }
   ],
   "source": [
    "# x coordinates have the states\n",
    "# y coordinates have the mean PLL\n",
    "fig = plt.figure(figsize=(5, 4))\n",
    "ax = fig.add_subplot('111',facecolor='w')\n",
    "# TO DO replace this st we can have confidence internals if run w multiple seeds\n",
    "ax.semilogx(model_kappas, model_meanplls[0], ls='-',lw=2, marker='o',color='k')\n",
    "ax.set_xscale('log')\n",
    "ax.set_xticks(model_kappas)\n",
    "float_formatter = lambda x: \"%.e\" % x\n",
    "ax.set_xticklabels(list(map(float_formatter, model_kappas)))\n",
    "ax.set_ylabel('mean PLL')\n",
    "ax.set_title('$AR order = {},\\t K = {}$'.format(model_lag, model_state))\n",
    "ax.set_xlabel('$\\kappa$')\n",
    "#plt.xscale('log')\n",
    "plt.tight_layout()\n",
    "# mean PLL merge for different seeds\n",
    "plot_fname = os.path.join(log_dir_plot + '/lag_{}'.format(model_lag)+ '/')\n",
    "if not os.path.exists(plot_fname):\n",
    "    os.makedirs(plot_fname)\n",
    "plot_fname += 'PLL_kappas_state_{0:02}.pdf'.format(model_state)\n",
    "if FIG_STORE:\n",
    "    print('Storing in {}'.format(plot_fname))\n",
    "    plt.savefig(plot_fname)\n",
    "else:\n",
    "    plt.show()\n",
    "plt.close()"
   ]
  },
  {
   "cell_type": "code",
   "execution_count": 12,
   "metadata": {},
   "outputs": [
    {
     "name": "stdout",
     "output_type": "stream",
     "text": [
      "100\n",
      "10000\n",
      "1000000\n",
      "100000000\n",
      "10000000000\n"
     ]
    },
    {
     "data": {
      "image/png": "[encoded data removed]",
      "text/plain": [
       "<Figure size 432x288 with 1 Axes>"
      ]
     },
     "metadata": {
      "needs_background": "light"
     },
     "output_type": "display_data"
    }
   ],
   "source": [
    "# ----------------------------------------------------------------------\n",
    "# Look at state duration for different kappa for different state numbers\n",
    "# ----------------------------------------------------------------------\n",
    "# This is for a single state, so first identify your rest state\n",
    "# Lags should go in different plots\n",
    "\n",
    "train_data_index = 11\n",
    "data = train_data[train_data_index]\n",
    "fps = 30\n",
    "\n",
    "model_states = np.unique(df['K'].get_values())\n",
    "model_seeds = np.unique(df['seed'].get_values())\n",
    "model_kappas = np.unique(df['kappa'].get_values())\n",
    "state_durations = []\n",
    "\n",
    "# This depends on the PLLs available\n",
    "#ref = reference_vals[-1]\n",
    "for model_lag in model_lags:\n",
    "    # The seeds correspond to the error bars\n",
    "    for seed in model_seeds:\n",
    "        # For each state\n",
    "        for k_id, k in enumerate(model_states):\n",
    "            # calculate mean PLL\n",
    "            # Looking only at the LL once model is trained\n",
    "            # as opposed to during timesteps in training\n",
    "\n",
    "            durations_kappas = []\n",
    "            for kappa_id, kappa in enumerate(model_kappas):\n",
    "                print(kappa)\n",
    "                hmm = df[ ((df['lags'] ==model_lag) & (df['K'] == k) & (df['kappa']==kappa))]['model'].get_values()[0]\n",
    "\n",
    "                # z = hmm.stateseqs[train_data_index]\n",
    "                #z, perm = relabel_model_z(hmm, index=train_data_index)\n",
    "                #_ , durations = rle(z)\n",
    "\n",
    "                duration_train = []\n",
    "                for train_data_index in range(len(train_data)):\n",
    "                    duration_train.append(rle(hmm.stateseqs[train_data_index])[1])\n",
    "                \n",
    "                # durations for model for all training data in frames\n",
    "                durations = np.asarray([item for sublist in duration_train for item in sublist])\n",
    "                \n",
    "                # convert to sec\n",
    "                durations_kappas.append(durations/fps)\n",
    "\n",
    "            frames_len = np.asarray(list(map(max,durations_kappas)))\n",
    "            \n",
    "            # Make plot\n",
    "            float_formatter = lambda x: \"%.e\" %x\n",
    "\n",
    "            fig = plt.figure(figsize=(6, 4))\n",
    "            current_palette = sns.color_palette('Greys', 20)\n",
    "            sns.set_palette(current_palette)\n",
    "            ax = sns.violinplot(data=durations_kappas,\n",
    "                                pallete=None,\n",
    "                                split=True,\n",
    "                                scale='width',\n",
    "                                orient='v',\n",
    "                                scale_hue=False)\n",
    "\n",
    "            x_labels=list(map(float_formatter,model_kappas))\n",
    "            x_labels.append(r'Labeled'+'\\n'+'data')\n",
    "            ax.set_xticklabels(x_labels)\n",
    "            ax.set_xlabel(r'$\\kappa$')\n",
    "            ax.set_title('State Duration [sec]\\nK={}'.format(k))\n",
    "            ylabels= np.linspace(0, frames_len.max(), 3, dtype=int)\n",
    "            ax.set_yticks(ylabels)\n",
    "            ax.set_yticklabels(list(map(str, ylabels)))\n",
    "\n",
    "            [t.set_color(i) for (i,t) in\n",
    "             zip(['k']*(len(model_kappas))+['r'],ax.xaxis.get_ticklabels())]\n",
    "\n",
    "            plt.tight_layout()\n",
    "            # Focus on single seed\n",
    "            plot_fname = os.path.join(log_dir_plot + '/lag_{0:02}'.format(model_lag)+ '/')\n",
    "            if not os.path.exists(plot_fname):\n",
    "                os.makedirs(plot_fname)\n",
    "\n",
    "            plot_fname += 'State_Duration_kappa_K_{0:02d}.pdf'.format(k)\n",
    "\n",
    "            if FIG_STORE:\n",
    "                print('Storing in {}'.format(plot_fname))\n",
    "                plt.savefig(plot_fname)\n",
    "            else:\n",
    "                plt.show()\n",
    "            plt.close()\n"
   ]
  },
  {
   "cell_type": "code",
   "execution_count": 13,
   "metadata": {},
   "outputs": [
    {
     "name": "stderr",
     "output_type": "stream",
     "text": [
      "findfont: Font family ['sans-serif'] not found. Falling back to DejaVu Sans.\n",
      "findfont: Font family ['sans-serif'] not found. Falling back to DejaVu Sans.\n"
     ]
    },
    {
     "data": {
      "image/png": "[encoded data removed]",
      "text/plain": [
       "<Figure size 576x216 with 2 Axes>"
      ]
     },
     "metadata": {
      "needs_background": "light"
     },
     "output_type": "display_data"
    }
   ],
   "source": [
    "# Make plot\n",
    "import matplotlib.font_manager\n",
    "\n",
    "import matplotlib\n",
    "matplotlib.rcParams.update({'font.sans-serif' : 'Helvetica',\n",
    "                            'axes.labelsize': 9,\n",
    "                            'xtick.labelsize' : 9,\n",
    "                            'ytick.labelsize' : 9,\n",
    "                            'axes.titlesize' : 11})\n",
    "\n",
    "float_formatter = lambda x: \"%.e\" %x\n",
    "\n",
    "widths = [0.75, 1]\n",
    "gs_kw = dict(width_ratios=widths,wspace=0.01)\n",
    "fig, axarr = plt.subplots(1, 2, figsize=(8, 3),constrained_layout=True, gridspec_kw=gs_kw)\n",
    "current_palette = sns.color_palette('Greys', 20)\n",
    "sns.set_palette(current_palette)\n",
    "\n",
    "ax = axarr[1]\n",
    "sns.violinplot(data=durations_kappas,\n",
    "                    pallete=None,\n",
    "                    split=True,\n",
    "                    ax=ax,\n",
    "                    scale='width',\n",
    "                    orient='v',\n",
    "                    scale_hue=False)\n",
    "\n",
    "x_labels=list(map(float_formatter,model_kappas))\n",
    "x_labels.append(r'Labeled'+'\\n'+'data')\n",
    "ax.set_xticklabels(x_labels)\n",
    "ax.set_xlabel(r'$\\kappa$')\n",
    "ax.set_title('State Duration [sec]\\n$K={}$'.format(k))\n",
    "ylabels= np.linspace(0, frames_len.max(), 3, dtype=int)\n",
    "ax.set_yticks(ylabels)\n",
    "ax.set_yticklabels(list(map(str, ylabels)))\n",
    "\n",
    "[t.set_color(i) for (i,t) in\n",
    " zip(['k']*(len(model_kappas))+['r'],ax.xaxis.get_ticklabels())]\n",
    "\n",
    "\n",
    "ax = axarr[0]\n",
    "ax.semilogx(model_kappas, model_meanplls[0], ls='-',lw=2, marker='o',color='k')\n",
    "ax.set_xscale('log')\n",
    "ax.set_xticks(model_kappas)\n",
    "float_formatter = lambda x: \"%.e\" % x\n",
    "ax.set_xticklabels(list(map(float_formatter, model_kappas)))\n",
    "ax.set_ylabel('mean PLL')\n",
    "ax.set_title('AR order = {}\\n$K = {}$'.format(model_lag, model_state))\n",
    "ax.set_xlabel('$\\kappa$')\n",
    "\n",
    "plt.tight_layout()\n",
    "# Focus on single seed\n",
    "plot_fname = os.path.join(log_dir_plot + '/lag_{0:02}'.format(model_lag)+ '/')\n",
    "if not os.path.exists(plot_fname):\n",
    "    os.makedirs(plot_fname)\n",
    "\n",
    "plot_fname += 'State_Duration_kappa_K_{0:02d}.pdf'.format(k)\n",
    "\n",
    "plt.savefig('kappa_k6_pll_duration.pdf')\n",
    "if FIG_STORE:\n",
    "    print('Storing in {}'.format(plot_fname))\n",
    "    plt.savefig(plot_fname)\n",
    "else:\n",
    "    plt.show()\n",
    "plt.close()"
   ]
  },
  {
   "cell_type": "code",
   "execution_count": null,
   "metadata": {},
   "outputs": [],
   "source": []
  }
 ],
 "metadata": {
  "kernelspec": {
   "display_name": "Python 3",
   "language": "python",
   "name": "python3"
  },
  "language_info": {
   "codemirror_mode": {
    "name": "ipython",
    "version": 3
   },
   "file_extension": ".py",
   "mimetype": "text/x-python",
   "name": "python",
   "nbconvert_exporter": "python",
   "pygments_lexer": "ipython3",
   "version": "3.6.7"
  }
 },
 "nbformat": 4,
 "nbformat_minor": 4
}
